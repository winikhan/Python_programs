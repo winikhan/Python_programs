{
  "nbformat": 4,
  "nbformat_minor": 0,
  "metadata": {
    "colab": {
      "provenance": [],
      "authorship_tag": "ABX9TyPj6S3OzubUApDdVR8N4Mf8",
      "include_colab_link": true
    },
    "kernelspec": {
      "name": "python3",
      "display_name": "Python 3"
    },
    "language_info": {
      "name": "python"
    }
  },
  "cells": [
    {
      "cell_type": "markdown",
      "metadata": {
        "id": "view-in-github",
        "colab_type": "text"
      },
      "source": [
        "<a href=\"https://colab.research.google.com/github/winikhan/Python_programs/blob/main/Python_challenge_2.ipynb\" target=\"_parent\"><img src=\"https://colab.research.google.com/assets/colab-badge.svg\" alt=\"Open In Colab\"/></a>"
      ]
    },
    {
      "cell_type": "code",
      "execution_count": 6,
      "metadata": {
        "colab": {
          "base_uri": "https://localhost:8080/"
        },
        "id": "cL8DimmZ5D7T",
        "outputId": "3602afc4-b130-4829-aeb7-8cad33cf9717"
      },
      "outputs": [
        {
          "output_type": "stream",
          "name": "stdout",
          "text": [
            "Enter any sentencehih hh kk\n",
            "hih hh kk\n",
            "The total words are : 14\n"
          ]
        }
      ],
      "source": []
    },
    {
      "cell_type": "markdown",
      "source": [
        "Write a program which takes a user input as a sentence and counts the words."
      ],
      "metadata": {
        "id": "nY8hVVqB5muW"
      }
    },
    {
      "cell_type": "code",
      "source": [
        "userInput = input(\"Enter a sentence\\n\")\n",
        "inputSplit = userInput.split()\n",
        "inputLength= len(inputSplit)\n",
        "print(f\"Total words:  {inputLength}\")"
      ],
      "metadata": {
        "colab": {
          "base_uri": "https://localhost:8080/"
        },
        "id": "-Xyar4jGAAkJ",
        "outputId": "46d336ce-8170-471f-cd2d-324fe80af5ce"
      },
      "execution_count": 25,
      "outputs": [
        {
          "output_type": "stream",
          "name": "stdout",
          "text": [
            "Enter a sentence\n",
            "Python programming challenge  day 2\n",
            "Total words:  5\n"
          ]
        }
      ]
    },
    {
      "cell_type": "markdown",
      "source": [
        "Modified program which prints the sentence in reverse order."
      ],
      "metadata": {
        "id": "vS7qXWwRCWsl"
      }
    },
    {
      "cell_type": "code",
      "source": [
        "userInput = input(\"Enter a sentence\\n\")\n",
        "inputSplit = userInput.split()\n",
        "reversedSentence = ' '.join(inputSplit[::-1])\n",
        "print(f\"Reversed sentence: {reversedSentence}\")\n"
      ],
      "metadata": {
        "colab": {
          "base_uri": "https://localhost:8080/"
        },
        "id": "dAZcZn1XCPWv",
        "outputId": "245b8645-e383-4b24-ed4e-d2d995ce9473"
      },
      "execution_count": 24,
      "outputs": [
        {
          "output_type": "stream",
          "name": "stdout",
          "text": [
            "Enter a sentence\n",
            "Hey coders!\n",
            "Reversed sentence: coders! Hey\n"
          ]
        }
      ]
    },
    {
      "cell_type": "markdown",
      "source": [],
      "metadata": {
        "id": "uyq0NixxCRXu"
      }
    }
  ]
}