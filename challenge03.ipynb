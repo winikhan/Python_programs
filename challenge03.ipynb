{
  "nbformat": 4,
  "nbformat_minor": 0,
  "metadata": {
    "colab": {
      "provenance": [],
      "authorship_tag": "ABX9TyOuLlO/XKMpu38QFFRWNEvK",
      "include_colab_link": true
    },
    "kernelspec": {
      "name": "python3",
      "display_name": "Python 3"
    },
    "language_info": {
      "name": "python"
    }
  },
  "cells": [
    {
      "cell_type": "markdown",
      "metadata": {
        "id": "view-in-github",
        "colab_type": "text"
      },
      "source": [
        "<a href=\"https://colab.research.google.com/github/winikhan/Python_programs/blob/main/challenge03.ipynb\" target=\"_parent\"><img src=\"https://colab.research.google.com/assets/colab-badge.svg\" alt=\"Open In Colab\"/></a>"
      ]
    },
    {
      "cell_type": "code",
      "execution_count": 2,
      "metadata": {
        "colab": {
          "base_uri": "https://localhost:8080/"
        },
        "id": "IceVZVDQFe7c",
        "outputId": "4696e7d5-76a1-4d0f-a02a-7f0d0ca5e03c"
      },
      "outputs": [
        {
          "output_type": "stream",
          "name": "stdout",
          "text": [
            "Enter a number:9\n",
            "This is an odd number.\n"
          ]
        }
      ],
      "source": [
        "#To print a message whether a number is odd or not\n",
        "\n",
        "num =int(input(\"Enter a number:\"))\n",
        "if(num % 2 !=0):\n",
        "    print(\"This is an odd number.\")\n",
        "else:\n",
        "    print(\"This is an not an odd number.\")"
      ]
    },
    {
      "cell_type": "markdown",
      "source": [],
      "metadata": {
        "id": "0YTLRMwtFgkK"
      }
    }
  ]
}