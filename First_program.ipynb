{
  "nbformat": 4,
  "nbformat_minor": 0,
  "metadata": {
    "colab": {
      "provenance": [],
      "authorship_tag": "ABX9TyNVmHTjHSLOybYx42oIc/I1",
      "include_colab_link": true
    },
    "kernelspec": {
      "name": "python3",
      "display_name": "Python 3"
    },
    "language_info": {
      "name": "python"
    }
  },
  "cells": [
    {
      "cell_type": "markdown",
      "metadata": {
        "id": "view-in-github",
        "colab_type": "text"
      },
      "source": [
        "<a href=\"https://colab.research.google.com/github/winikhan/Python_programs/blob/main/First_program.ipynb\" target=\"_parent\"><img src=\"https://colab.research.google.com/assets/colab-badge.svg\" alt=\"Open In Colab\"/></a>"
      ]
    },
    {
      "cell_type": "code",
      "execution_count": 12,
      "metadata": {
        "colab": {
          "base_uri": "https://localhost:8080/"
        },
        "id": "kx3wFGyzKpl5",
        "outputId": "1d583f36-911b-493d-8a8b-022f963e142e"
      },
      "outputs": [
        {
          "output_type": "stream",
          "name": "stdout",
          "text": [
            "fatal: destination path 'FirstPython_program' already exists and is not an empty directory.\n"
          ]
        }
      ],
      "source": [
        "!git clone https://github.com/winikhan/FirstPython_program.git"
      ]
    },
    {
      "cell_type": "code",
      "source": [
        "print(\"Waniza Khan\")\n",
        "print('\"Hello, Python Learners!. Today is the fisrt step in your coding journey\" ')"
      ],
      "metadata": {
        "id": "7RTQCF4tUTgu"
      },
      "execution_count": null,
      "outputs": []
    }
  ]
}